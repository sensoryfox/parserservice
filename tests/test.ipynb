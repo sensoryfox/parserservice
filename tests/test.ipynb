{
 "cells": [
  {
   "cell_type": "code",
   "execution_count": 1,
   "metadata": {},
   "outputs": [],
   "source": [
    "path = 'X:\\CODER\\ParserService\\requirements.txt'\n",
    "import asyncio\n",
    "import httpx\n",
    "from uuid import UUID, uuid4\n",
    "from pydantic import BaseModel, Field\n",
    "\n",
    "from sensory_data_client import DataClient, get_settings, DataClientConfig, PostgresConfig, MinioConfig, create_data_client\n",
    "from sensory_data_client.models.document import DocumentCreate, DocumentMetadata"
   ]
  },
  {
   "cell_type": "code",
   "execution_count": 2,
   "id": "50473cf8",
   "metadata": {},
   "outputs": [],
   "source": [
    "#config = DataClientConfig(PostgresConfig(host=5422))"
   ]
  },
  {
   "cell_type": "code",
   "execution_count": null,
   "id": "85279db7",
   "metadata": {},
   "outputs": [],
   "source": [
    "client.upload_file('X:\\CODER\\ParserService\\X5Group x SensoryLAB 07.02.2024.pptx.pdf', )"
   ]
  },
  {
   "cell_type": "code",
   "execution_count": null,
   "id": "5bc0157f",
   "metadata": {},
   "outputs": [],
   "source": [
    "\n",
    "    \n",
    "\n"
   ]
  },
  {
   "cell_type": "code",
   "execution_count": 4,
   "id": "c88caa45",
   "metadata": {},
   "outputs": [
    {
     "name": "stdout",
     "output_type": "stream",
     "text": [
      "endpoint='localhost:9008' accesskey='minioadmin' secretkey='minioadmin' bucket='corporate' secure=False\n"
     ]
    }
   ],
   "source": [
    "import asyncio\n",
    "from pathlib import Path  # Используем pathlib для удобной и кросс-платформенной работы с путями\n",
    "import uuid\n",
    "from typing import Optional, Coroutine, Any\n",
    "\n",
    "from pydantic import BaseModel, Field\n",
    "\n",
    "client =create_data_client(DataClientConfig(postgres = PostgresConfig(user = \"postgres\",\n",
    "                                                           password = \"postgres\",\n",
    "                                                           host = \"localhost\",\n",
    "                                                           port=5422), \n",
    "                                            minio = MinioConfig(endpoint=\"localhost:9008\",  bucket = \"corporate\")))\n"
   ]
  },
  {
   "cell_type": "code",
   "execution_count": 6,
   "id": "ccb58e08",
   "metadata": {},
   "outputs": [
    {
     "name": "stdout",
     "output_type": "stream",
     "text": [
      "Подготовка к загрузке файла: X:\\CODER\\ParserService\\tests\\X5Group x SensoryLAB 07.02.2024.pptx.pdf\n"
     ]
    }
   ],
   "source": [
    "\n",
    "# Шаг 1: Определяем путь к файлу\n",
    "# Использование pathlib.Path предпочтительнее, чем простые строки.\n",
    "# Он сам разберется со слэшами в Windows/Linux.\n",
    "file_path_str = r'X:\\CODER\\ParserService\\tests\\X5Group x SensoryLAB 07.02.2024.pptx.pdf'\n",
    "file_path = Path(file_path_str)\n",
    "\n",
    "# Проверка, что файл существует, перед тем как его читать\n",
    "if not file_path.is_file():\n",
    "    print(f\"Ошибка: Файл не найден по пути {file_path}\")\n",
    "\n",
    "print(f\"Подготовка к загрузке файла: {file_path}\")\n",
    "\n",
    "# Шаг 2: Читаем файл в байты\n",
    "# .read_bytes() - простой способ прочитать весь файл в память\n",
    "try:\n",
    "    file_content: bytes = file_path.read_bytes()\n",
    "except Exception as e:\n",
    "    print(f\"Не удалось прочитать файл: {e}\")\n",
    "    \n",
    "\n",
    "DOC_ID = uuid4()\n",
    "# Шаг 3: Создаем объект метаданных DocumentCreate\n",
    "# Извлекаем информацию из пути и добавляем остальную\n",
    "document_meta = DocumentCreate(\n",
    "    user_document_id=str(uuid.uuid4()), # Генерируем уникальный ID для этого документа\n",
    "    name=file_path.name,                # 'X5Group x SensoryLAB 07.02.2024.pptx.pdf'\n",
    "    owner=\"user-alpha-007\",             # ID пользователя, который загружает файл\n",
    "    access_group=\"x5-auditors\",         # Опциональная группа доступа\n",
    "    extension=file_path.suffix.lstrip('.'), # '.pdf' -> 'pdf'\n",
    "    metadata=None\n",
    ")\n"
   ]
  },
  {
   "cell_type": "code",
   "execution_count": 8,
   "id": "bd2421ec",
   "metadata": {},
   "outputs": [
    {
     "name": "stdout",
     "output_type": "stream",
     "text": [
      "❌ Произошла ошибка во время загрузки: (sqlalchemy.dialects.postgresql.asyncpg.IntegrityError) <class 'asyncpg.exceptions.NotNullViolationError'>: null value in column \"content_hash\" of relation \"documents\" violates not-null constraint\n",
      "DETAIL:  Failing row contains (08389589-1384-4e82-a43a-826fbee58105, a555b03f-7615-4747-a23d-1db888571030, X5Group x SensoryLAB 07.02.2024.pptx.pdf, user-alpha-007, x5-auditors, pdf, null, null, null, null, 2025-08-06 14:50:38.622316+00, 2025-08-06 14:50:38.622316+00, d4daf0397e06cc9fab85daa48944e98f7ba1ef7c9a94e0ecfd322988cb3c277c).\n",
      "[SQL: INSERT INTO documents (id, user_document_id, name, owner, access_group, extension, content_hash, object_path, md_object_path, stored_file_hash) VALUES ($1::UUID, $2::VARCHAR, $3::VARCHAR, $4::VARCHAR, $5::VARCHAR, $6::VARCHAR, $7::VARCHAR, $8::VARCHAR, $9::VARCHAR, $10::VARCHAR) RETURNING documents.created, documents.edited]\n",
      "[parameters: (UUID('08389589-1384-4e82-a43a-826fbee58105'), 'a555b03f-7615-4747-a23d-1db888571030', 'X5Group x SensoryLAB 07.02.2024.pptx.pdf', 'user-alpha-007', 'x5-auditors', 'pdf', None, None, None, 'd4daf0397e06cc9fab85daa48944e98f7ba1ef7c9a94e0ecfd322988cb3c277c')]\n",
      "(Background on this error at: https://sqlalche.me/e/20/gkpj)\n"
     ]
    }
   ],
   "source": [
    "\n",
    "# Шаг 4: Вызываем асинхронный метод с `await`\n",
    "try:\n",
    "    # Ваш метод `upload_file` скорее всего захочет получить чистое имя файла,\n",
    "    # а не весь путь. file_path.name идеально для этого подходит.\n",
    "    result_document = await client.upload_file(\n",
    "        file_name=file_path.name,\n",
    "        content=file_content,\n",
    "        meta=document_meta\n",
    "    )\n",
    "    \n",
    "    print(\"\\n✅ Успешно загружен документ!\")\n",
    "    print(f\"   ID в базе: {result_document.id}\")\n",
    "    print(f\"   Путь в хранилище: {result_document}\")\n",
    "\n",
    "except Exception as e:\n",
    "    print(f\"❌ Произошла ошибка во время загрузки: {e}\")\n"
   ]
  },
  {
   "cell_type": "code",
   "execution_count": 19,
   "id": "a315297d",
   "metadata": {},
   "outputs": [
    {
     "ename": "DocumentNotFoundError",
     "evalue": "",
     "output_type": "error",
     "traceback": [
      "\u001b[1;31m---------------------------------------------------------------------------\u001b[0m",
      "\u001b[1;31mDocumentNotFoundError\u001b[0m                     Traceback (most recent call last)",
      "\u001b[1;32m~\\AppData\\Local\\Temp/ipykernel_11204/385292314.py\u001b[0m in \u001b[0;36m<cell line: 1>\u001b[1;34m()\u001b[0m\n\u001b[1;32m----> 1\u001b[1;33m \u001b[0mraw_bytes\u001b[0m \u001b[1;33m=\u001b[0m \u001b[1;32mawait\u001b[0m \u001b[0mclient\u001b[0m\u001b[1;33m.\u001b[0m\u001b[0mget_file\u001b[0m\u001b[1;33m(\u001b[0m\u001b[0mUUID\u001b[0m\u001b[1;33m(\u001b[0m\u001b[1;34m'cd85f28e-0eff-4767-90fd-75b5c16992f9'\u001b[0m\u001b[1;33m)\u001b[0m\u001b[1;33m)\u001b[0m\u001b[1;33m\u001b[0m\u001b[1;33m\u001b[0m\u001b[0m\n\u001b[0m",
      "\u001b[1;32mX:\\CODER\\DataFileClient\\src\\sensory_data_client\\client.py\u001b[0m in \u001b[0;36mget_file\u001b[1;34m(self, doc_id)\u001b[0m\n\u001b[0;32m    131\u001b[0m         \u001b[0mdoc\u001b[0m \u001b[1;33m=\u001b[0m \u001b[1;32mawait\u001b[0m \u001b[0mself\u001b[0m\u001b[1;33m.\u001b[0m\u001b[0mmetarepo\u001b[0m\u001b[1;33m.\u001b[0m\u001b[0mget\u001b[0m\u001b[1;33m(\u001b[0m\u001b[0mdoc_id\u001b[0m\u001b[1;33m)\u001b[0m\u001b[1;33m\u001b[0m\u001b[1;33m\u001b[0m\u001b[0m\n\u001b[0;32m    132\u001b[0m         \u001b[1;32mif\u001b[0m \u001b[1;32mnot\u001b[0m \u001b[0mdoc\u001b[0m\u001b[1;33m:\u001b[0m\u001b[1;33m\u001b[0m\u001b[1;33m\u001b[0m\u001b[0m\n\u001b[1;32m--> 133\u001b[1;33m             \u001b[1;32mraise\u001b[0m \u001b[0mDocumentNotFoundError\u001b[0m\u001b[1;33m\u001b[0m\u001b[1;33m\u001b[0m\u001b[0m\n\u001b[0m\u001b[0;32m    134\u001b[0m         \u001b[1;32mreturn\u001b[0m \u001b[1;32mawait\u001b[0m \u001b[0mself\u001b[0m\u001b[1;33m.\u001b[0m\u001b[0mminio\u001b[0m\u001b[1;33m.\u001b[0m\u001b[0mget_object\u001b[0m\u001b[1;33m(\u001b[0m\u001b[0mdoc\u001b[0m\u001b[1;33m.\u001b[0m\u001b[0mobject_path\u001b[0m\u001b[1;33m)\u001b[0m\u001b[1;33m\u001b[0m\u001b[1;33m\u001b[0m\u001b[0m\n\u001b[0;32m    135\u001b[0m \u001b[1;33m\u001b[0m\u001b[0m\n",
      "\u001b[1;31mDocumentNotFoundError\u001b[0m: "
     ]
    }
   ],
   "source": [
    "raw_bytes = await client.get_file(UUID('cd85f28e-0eff-4767-90fd-75b5c16992f9'))"
   ]
  },
  {
   "cell_type": "code",
   "execution_count": 18,
   "id": "8ae24559",
   "metadata": {},
   "outputs": [
    {
     "name": "stdout",
     "output_type": "stream",
     "text": [
      "Client: Starting parsing for doc_id=cd85f28e-0eff-4767-90fd-75b5c16992f9, file_name='X5Group x SensoryLAB 07.02.2024.pptx.pdf'...\n",
      "Client: Polling status for cd85f28e-0eff-4767-90fd-75b5c16992f9... [  0%] FAILURE | Stage: DOWNLOADING\n"
     ]
    },
    {
     "ename": "DocParserError",
     "evalue": "Parsing failed for doc cd85f28e-0eff-4767-90fd-75b5c16992f9: ConnectionRefusedError: [Errno 111] Connection refused",
     "output_type": "error",
     "traceback": [
      "\u001b[1;31m---------------------------------------------------------------------------\u001b[0m",
      "\u001b[1;31mDocParserError\u001b[0m                            Traceback (most recent call last)",
      "\u001b[1;32m~\\AppData\\Local\\Temp/ipykernel_11204/1657727031.py\u001b[0m in \u001b[0;36m<cell line: 8>\u001b[1;34m()\u001b[0m\n\u001b[0;32m      7\u001b[0m \u001b[0mparser_client\u001b[0m \u001b[1;33m=\u001b[0m \u001b[0mDocParserClient\u001b[0m\u001b[1;33m(\u001b[0m\u001b[0mbase_url\u001b[0m\u001b[1;33m=\u001b[0m\u001b[0mPARSER_URL\u001b[0m\u001b[1;33m)\u001b[0m\u001b[1;33m\u001b[0m\u001b[1;33m\u001b[0m\u001b[0m\n\u001b[0;32m      8\u001b[0m \u001b[1;32mtry\u001b[0m\u001b[1;33m:\u001b[0m\u001b[1;33m\u001b[0m\u001b[1;33m\u001b[0m\u001b[0m\n\u001b[1;32m----> 9\u001b[1;33m     \u001b[0mresult\u001b[0m \u001b[1;33m=\u001b[0m \u001b[1;32mawait\u001b[0m \u001b[0mparser_client\u001b[0m\u001b[1;33m.\u001b[0m\u001b[0mparse_and_wait\u001b[0m\u001b[1;33m(\u001b[0m\u001b[0mdoc_id\u001b[0m\u001b[1;33m=\u001b[0m\u001b[0mDOC_ID\u001b[0m\u001b[1;33m,\u001b[0m \u001b[0mfile_name\u001b[0m\u001b[1;33m=\u001b[0m\u001b[0mFILE_NAME\u001b[0m\u001b[1;33m)\u001b[0m\u001b[1;33m\u001b[0m\u001b[1;33m\u001b[0m\u001b[0m\n\u001b[0m\u001b[0;32m     10\u001b[0m     \u001b[0mprint\u001b[0m\u001b[1;33m(\u001b[0m\u001b[1;34m\"\\n--- Final Result ---\"\u001b[0m\u001b[1;33m)\u001b[0m\u001b[1;33m\u001b[0m\u001b[1;33m\u001b[0m\u001b[0m\n\u001b[0;32m     11\u001b[0m     \u001b[0mprint\u001b[0m\u001b[1;33m(\u001b[0m\u001b[0mresult\u001b[0m\u001b[1;33m)\u001b[0m \u001b[1;31m# -> {'lines_count': 150, 'images_count': 3}\u001b[0m\u001b[1;33m\u001b[0m\u001b[1;33m\u001b[0m\u001b[0m\n",
      "\u001b[1;32mx:\\CODER\\ParserService\\src\\parser_client.py\u001b[0m in \u001b[0;36mparse_and_wait\u001b[1;34m(self, doc_id, file_name, parse_images, poll_interval, timeout)\u001b[0m\n\u001b[0;32m     84\u001b[0m \u001b[1;33m\u001b[0m\u001b[0m\n\u001b[0;32m     85\u001b[0m             \u001b[1;32mif\u001b[0m \u001b[0mstatus_res\u001b[0m\u001b[1;33m.\u001b[0m\u001b[0mstatus\u001b[0m \u001b[1;33m==\u001b[0m \u001b[1;34m\"FAILURE\"\u001b[0m\u001b[1;33m:\u001b[0m\u001b[1;33m\u001b[0m\u001b[1;33m\u001b[0m\u001b[0m\n\u001b[1;32m---> 86\u001b[1;33m                 \u001b[1;32mraise\u001b[0m \u001b[0mDocParserError\u001b[0m\u001b[1;33m(\u001b[0m\u001b[0mstatus_res\u001b[0m\u001b[1;33m.\u001b[0m\u001b[0merror\u001b[0m\u001b[1;33m,\u001b[0m \u001b[0mdoc_id\u001b[0m\u001b[1;33m)\u001b[0m\u001b[1;33m\u001b[0m\u001b[1;33m\u001b[0m\u001b[0m\n\u001b[0m\u001b[0;32m     87\u001b[0m \u001b[1;33m\u001b[0m\u001b[0m\n\u001b[0;32m     88\u001b[0m \u001b[1;32masync\u001b[0m \u001b[1;32mdef\u001b[0m \u001b[0mmain\u001b[0m\u001b[1;33m(\u001b[0m\u001b[1;33m)\u001b[0m\u001b[1;33m:\u001b[0m\u001b[1;33m\u001b[0m\u001b[1;33m\u001b[0m\u001b[0m\n",
      "\u001b[1;31mDocParserError\u001b[0m: Parsing failed for doc cd85f28e-0eff-4767-90fd-75b5c16992f9: ConnectionRefusedError: [Errno 111] Connection refused"
     ]
    }
   ],
   "source": [
    "from src.parser_client import DocParserClient\n",
    "DOC_ID = 'cd85f28e-0eff-4767-90fd-75b5c16992f9'\n",
    "PARSER_URL = \"http://localhost:8000\" # URL нашего doc-parser сервиса\n",
    "FILE_NAME = \"X5Group x SensoryLAB 07.02.2024.pptx.pdf\"\n",
    "\n",
    "# 2. Запустить парсинг и дождаться результата\n",
    "parser_client = DocParserClient(base_url=PARSER_URL)\n",
    "try:\n",
    "    result = await parser_client.parse_and_wait(doc_id=DOC_ID, file_name=FILE_NAME)\n",
    "    print(\"\\n--- Final Result ---\")\n",
    "    print(result) # -> {'lines_count': 150, 'images_count': 3}\n",
    "except (asyncio.TimeoutError) as e:\n",
    "    print(f\"\\n--- Error --- \\n{e}\")"
   ]
  },
  {
   "cell_type": "code",
   "execution_count": null,
   "id": "e3d9d88b",
   "metadata": {},
   "outputs": [],
   "source": []
  }
 ],
 "metadata": {
  "kernelspec": {
   "display_name": "Python 3",
   "language": "python",
   "name": "python3"
  },
  "language_info": {
   "codemirror_mode": {
    "name": "ipython",
    "version": 3
   },
   "file_extension": ".py",
   "mimetype": "text/x-python",
   "name": "python",
   "nbconvert_exporter": "python",
   "pygments_lexer": "ipython3",
   "version": "3.10.1"
  }
 },
 "nbformat": 4,
 "nbformat_minor": 5
}
