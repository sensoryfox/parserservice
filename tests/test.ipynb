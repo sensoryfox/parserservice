{
 "cells": [
  {
   "cell_type": "code",
   "execution_count": 30,
   "metadata": {},
   "outputs": [],
   "source": [
    "path = 'X:\\CODER\\ParserService\\requirements.txt'\n",
    "import asyncio\n",
    "import httpx\n",
    "from uuid import UUID, uuid4\n",
    "from pydantic import BaseModel, Field\n",
    "\n",
    "from sensory_data_client import DataClient, get_settings, DataClientConfig, PostgresConfig, MinioConfig, create_data_client\n",
    "from sensory_data_client.models.document import DocumentCreate, DocumentMetadata"
   ]
  },
  {
   "cell_type": "code",
   "execution_count": 31,
   "id": "50473cf8",
   "metadata": {},
   "outputs": [],
   "source": [
    "#config = DataClientConfig(PostgresConfig(host=5422))"
   ]
  },
  {
   "cell_type": "code",
   "execution_count": 32,
   "id": "85279db7",
   "metadata": {},
   "outputs": [
    {
     "ename": "TypeError",
     "evalue": "DataClient.upload_file() missing 2 required positional arguments: 'content' and 'meta'",
     "output_type": "error",
     "traceback": [
      "\u001b[1;31m---------------------------------------------------------------------------\u001b[0m",
      "\u001b[1;31mTypeError\u001b[0m                                 Traceback (most recent call last)",
      "\u001b[1;32m~\\AppData\\Local\\Temp/ipykernel_1864/2906097465.py\u001b[0m in \u001b[0;36m<cell line: 1>\u001b[1;34m()\u001b[0m\n\u001b[1;32m----> 1\u001b[1;33m \u001b[0mclient\u001b[0m\u001b[1;33m.\u001b[0m\u001b[0mupload_file\u001b[0m\u001b[1;33m(\u001b[0m\u001b[1;34m'X:\\CODER\\ParserService\\X5Group x SensoryLAB 07.02.2024.pptx.pdf'\u001b[0m\u001b[1;33m,\u001b[0m \u001b[1;33m)\u001b[0m\u001b[1;33m\u001b[0m\u001b[1;33m\u001b[0m\u001b[0m\n\u001b[0m",
      "\u001b[1;31mTypeError\u001b[0m: DataClient.upload_file() missing 2 required positional arguments: 'content' and 'meta'"
     ]
    }
   ],
   "source": [
    "client.upload_file('X:\\CODER\\ParserService\\X5Group x SensoryLAB 07.02.2024.pptx.pdf', )"
   ]
  },
  {
   "cell_type": "code",
   "execution_count": null,
   "id": "5bc0157f",
   "metadata": {},
   "outputs": [],
   "source": [
    "\n",
    "    \n",
    "\n"
   ]
  },
  {
   "cell_type": "code",
   "execution_count": null,
   "id": "c88caa45",
   "metadata": {},
   "outputs": [
    {
     "name": "stdout",
     "output_type": "stream",
     "text": [
      "endpoint='localhost:9008' accesskey='minioadmin' secretkey='minioadmin' bucket='corporate' secure=False\n"
     ]
    }
   ],
   "source": [
    "import asyncio\n",
    "from pathlib import Path  # Используем pathlib для удобной и кросс-платформенной работы с путями\n",
    "import uuid\n",
    "from typing import Optional, Coroutine, Any\n",
    "\n",
    "from pydantic import BaseModel, Field\n",
    "\n",
    "client =create_data_client(DataClientConfig(postgres = PostgresConfig(user = \"postgres\",\n",
    "                                                           password = \"postgres\",\n",
    "                                                           host = \"localhost\",\n",
    "                                                           port=5422), \n",
    "                                            minio = MinioConfig(endpoint=\"localhost:9008\",  bucket = \"corporate\")))\n"
   ]
  },
  {
   "cell_type": "code",
   "execution_count": 43,
   "id": "ccb58e08",
   "metadata": {},
   "outputs": [
    {
     "name": "stdout",
     "output_type": "stream",
     "text": [
      "Подготовка к загрузке файла: X:\\CODER\\ParserService\\tests\\Акт_сдачи_приемки_работ_оказанных_услуг_№1_от_21_07_2025.pdf\n"
     ]
    }
   ],
   "source": [
    "\n",
    "# Шаг 1: Определяем путь к файлу\n",
    "# Использование pathlib.Path предпочтительнее, чем простые строки.\n",
    "# Он сам разберется со слэшами в Windows/Linux.\n",
    "file_path_str = r'X:\\CODER\\ParserService\\tests\\Акт_сдачи_приемки_работ_оказанных_услуг_№1_от_21_07_2025.pdf'\n",
    "file_path = Path(file_path_str)\n",
    "\n",
    "# Проверка, что файл существует, перед тем как его читать\n",
    "if not file_path.is_file():\n",
    "    print(f\"Ошибка: Файл не найден по пути {file_path}\")\n",
    "\n",
    "print(f\"Подготовка к загрузке файла: {file_path}\")\n",
    "\n",
    "# Шаг 2: Читаем файл в байты\n",
    "# .read_bytes() - простой способ прочитать весь файл в память\n",
    "try:\n",
    "    file_content: bytes = file_path.read_bytes()\n",
    "except Exception as e:\n",
    "    print(f\"Не удалось прочитать файл: {e}\")\n",
    "    \n",
    "\n",
    "DOC_ID = uuid4()\n",
    "# Шаг 3: Создаем объект метаданных DocumentCreate\n",
    "# Извлекаем информацию из пути и добавляем остальную\n",
    "document_meta = DocumentCreate(\n",
    "    user_document_id=str(uuid.uuid4()), # Генерируем уникальный ID для этого документа\n",
    "    name=file_path.name,                # 'X5Group x SensoryLAB 07.02.2024.pptx.pdf'\n",
    "    owner=\"user-alpha-007\",             # ID пользователя, который загружает файл\n",
    "    access_group=\"x5-auditors\",         # Опциональная группа доступа\n",
    "    metadata=DocumentMetadata()\n",
    ")\n"
   ]
  },
  {
   "cell_type": "code",
   "execution_count": 45,
   "id": "bd2421ec",
   "metadata": {},
   "outputs": [
    {
     "name": "stdout",
     "output_type": "stream",
     "text": [
      "\n",
      "✅ Успешно загружен документ!\n",
      "   ID в базе: 578b2be3-beb7-4545-8ba8-bea280253ce8\n",
      "   Путь в хранилище: user_document_id='50424754-290d-4667-94c8-e06c95857fc2' name='Акт_сдачи_приемки_работ_оказанных_услуг_№1_от_21_07_2025.pdf' owner='user-alpha-007' access_group='x5-auditors' metadata=DocumentMetadata(processing_status=None, image_object_paths=None, extra=None) id=UUID('578b2be3-beb7-4545-8ba8-bea280253ce8') created=datetime.datetime(2025, 8, 6, 22, 20, 7, 363341, tzinfo=datetime.timezone.utc) edited=datetime.datetime(2025, 8, 6, 22, 20, 7, 363341, tzinfo=datetime.timezone.utc) content_hash='a5fef74e0b09c41553613ed214c243d12c41f769d98edd2b9a31f8db1e112bb5' object_path='pdf/578b2be3beb745458ba8bea280253ce8/Акт_сдачи_приемки_работ_оказанных_услуг_№1_от_21_07_2025.pdf' extension=None\n"
     ]
    }
   ],
   "source": [
    "\n",
    "# Шаг 4: Вызываем асинхронный метод с `await`\n",
    "try:\n",
    "    # Ваш метод `upload_file` скорее всего захочет получить чистое имя файла,\n",
    "    # а не весь путь. file_path.name идеально для этого подходит.\n",
    "    result_document = await client.upload_file(\n",
    "        file_name=file_path.name,\n",
    "        content=file_content,\n",
    "        meta=document_meta\n",
    "    )\n",
    "    \n",
    "    print(\"\\n✅ Успешно загружен документ!\")\n",
    "    print(f\"   ID в базе: {result_document.id}\")\n",
    "    print(f\"   Путь в хранилище: {result_document}\")\n",
    "\n",
    "except Exception as e:\n",
    "    print(f\"❌ Произошла ошибка во время загрузки: {e}\")\n"
   ]
  },
  {
   "cell_type": "code",
   "execution_count": null,
   "id": "3fe70777",
   "metadata": {},
   "outputs": [],
   "source": []
  },
  {
   "cell_type": "code",
   "execution_count": null,
   "id": "a315297d",
   "metadata": {},
   "outputs": [],
   "source": [
    "raw_bytes = await client.get_file(UUID('0e215786-b1d0-4989-aad7-801c44af70a0'))"
   ]
  },
  {
   "cell_type": "code",
   "execution_count": 47,
   "id": "8ae24559",
   "metadata": {},
   "outputs": [
    {
     "name": "stdout",
     "output_type": "stream",
     "text": [
      "Client: Starting parsing for doc_id=578b2be3-beb7-4545-8ba8-bea280253ce8, file_name='Акт_сдачи_приемки_работ_оказанных_услуг_№1_от_21_07_2025.pdf'...\n",
      "Client: Polling status for 578b2be3-beb7-4545-8ba8-bea280253ce8... [ 50%] IN_PROGRESS | Stage: PARSING\n",
      "Client: Polling status for 578b2be3-beb7-4545-8ba8-bea280253ce8... [ 50%] IN_PROGRESS | Stage: PARSING\n",
      "Client: Polling status for 578b2be3-beb7-4545-8ba8-bea280253ce8... [ 50%] IN_PROGRESS | Stage: PARSING\n",
      "Client: Polling status for 578b2be3-beb7-4545-8ba8-bea280253ce8... [ 50%] IN_PROGRESS | Stage: PARSING\n",
      "Client: Polling status for 578b2be3-beb7-4545-8ba8-bea280253ce8... [ 50%] IN_PROGRESS | Stage: PARSING\n",
      "Client: Polling status for 578b2be3-beb7-4545-8ba8-bea280253ce8... [ 50%] IN_PROGRESS | Stage: PARSING\n",
      "Client: Polling status for 578b2be3-beb7-4545-8ba8-bea280253ce8... [ 50%] IN_PROGRESS | Stage: PARSING\n",
      "Client: Polling status for 578b2be3-beb7-4545-8ba8-bea280253ce8... [ 50%] IN_PROGRESS | Stage: PARSING\n",
      "Client: Polling status for 578b2be3-beb7-4545-8ba8-bea280253ce8... [ 50%] IN_PROGRESS | Stage: PARSING\n",
      "Client: Polling status for 578b2be3-beb7-4545-8ba8-bea280253ce8... [ 50%] IN_PROGRESS | Stage: PARSING\n",
      "Client: Polling status for 578b2be3-beb7-4545-8ba8-bea280253ce8... [ 50%] IN_PROGRESS | Stage: PARSING\n",
      "Client: Polling status for 578b2be3-beb7-4545-8ba8-bea280253ce8... [ 50%] IN_PROGRESS | Stage: PARSING\n",
      "Client: Polling status for 578b2be3-beb7-4545-8ba8-bea280253ce8... [ 50%] IN_PROGRESS | Stage: PARSING\n",
      "Client: Polling status for 578b2be3-beb7-4545-8ba8-bea280253ce8... [ 50%] IN_PROGRESS | Stage: PARSING\n",
      "Client: Polling status for 578b2be3-beb7-4545-8ba8-bea280253ce8... [ 50%] IN_PROGRESS | Stage: PARSING\n",
      "Client: Polling status for 578b2be3-beb7-4545-8ba8-bea280253ce8... [ 50%] IN_PROGRESS | Stage: PARSING\n",
      "Client: Polling status for 578b2be3-beb7-4545-8ba8-bea280253ce8... [ 50%] IN_PROGRESS | Stage: PARSING\n",
      "Client: Polling status for 578b2be3-beb7-4545-8ba8-bea280253ce8... [ 50%] IN_PROGRESS | Stage: PARSING\n",
      "Client: Polling status for 578b2be3-beb7-4545-8ba8-bea280253ce8... [ 50%] IN_PROGRESS | Stage: PARSING\n",
      "Client: Polling status for 578b2be3-beb7-4545-8ba8-bea280253ce8... [ 50%] IN_PROGRESS | Stage: PARSING\n",
      "Client: Polling status for 578b2be3-beb7-4545-8ba8-bea280253ce8... [ 50%] IN_PROGRESS | Stage: PARSING\n",
      "Client: Polling status for 578b2be3-beb7-4545-8ba8-bea280253ce8... [ 50%] IN_PROGRESS | Stage: PARSING\n",
      "Client: Polling status for 578b2be3-beb7-4545-8ba8-bea280253ce8... [ 50%] IN_PROGRESS | Stage: PARSING\n",
      "Client: Polling status for 578b2be3-beb7-4545-8ba8-bea280253ce8... [ 50%] IN_PROGRESS | Stage: PARSING\n",
      "Client: Polling status for 578b2be3-beb7-4545-8ba8-bea280253ce8... [ 50%] IN_PROGRESS | Stage: PARSING\n",
      "Client: Polling status for 578b2be3-beb7-4545-8ba8-bea280253ce8... [ 50%] IN_PROGRESS | Stage: PARSING\n",
      "Client: Polling status for 578b2be3-beb7-4545-8ba8-bea280253ce8... [ 50%] IN_PROGRESS | Stage: PARSING\n",
      "Client: Polling status for 578b2be3-beb7-4545-8ba8-bea280253ce8... [ 50%] IN_PROGRESS | Stage: PARSING\n",
      "Client: Polling status for 578b2be3-beb7-4545-8ba8-bea280253ce8... [ 50%] IN_PROGRESS | Stage: PARSING\n",
      "Client: Polling status for 578b2be3-beb7-4545-8ba8-bea280253ce8... [ 50%] IN_PROGRESS | Stage: PARSING\n",
      "Client: Polling status for 578b2be3-beb7-4545-8ba8-bea280253ce8... [ 50%] IN_PROGRESS | Stage: PARSING\n",
      "Client: Polling status for 578b2be3-beb7-4545-8ba8-bea280253ce8... [ 50%] IN_PROGRESS | Stage: PARSING\n",
      "Client: Polling status for 578b2be3-beb7-4545-8ba8-bea280253ce8... [ 50%] IN_PROGRESS | Stage: PARSING\n",
      "Client: Polling status for 578b2be3-beb7-4545-8ba8-bea280253ce8... [ 50%] IN_PROGRESS | Stage: PARSING\n",
      "Client: Polling status for 578b2be3-beb7-4545-8ba8-bea280253ce8... [ 50%] IN_PROGRESS | Stage: PARSING\n",
      "Client: Polling status for 578b2be3-beb7-4545-8ba8-bea280253ce8... [ 50%] IN_PROGRESS | Stage: PARSING\n",
      "Client: Polling status for 578b2be3-beb7-4545-8ba8-bea280253ce8... [ 50%] IN_PROGRESS | Stage: PARSING\n",
      "Client: Polling status for 578b2be3-beb7-4545-8ba8-bea280253ce8... [ 50%] IN_PROGRESS | Stage: PARSING\n",
      "Client: Polling status for 578b2be3-beb7-4545-8ba8-bea280253ce8... [ 50%] IN_PROGRESS | Stage: PARSING\n",
      "Client: Polling status for 578b2be3-beb7-4545-8ba8-bea280253ce8... [ 50%] IN_PROGRESS | Stage: PARSING\n",
      "Client: Polling status for 578b2be3-beb7-4545-8ba8-bea280253ce8... [ 50%] IN_PROGRESS | Stage: PARSING\n",
      "Client: Polling status for 578b2be3-beb7-4545-8ba8-bea280253ce8... [ 50%] IN_PROGRESS | Stage: PARSING\n",
      "Client: Polling status for 578b2be3-beb7-4545-8ba8-bea280253ce8... [ 50%] IN_PROGRESS | Stage: PARSING\n",
      "Client: Polling status for 578b2be3-beb7-4545-8ba8-bea280253ce8... [ 50%] IN_PROGRESS | Stage: PARSING\n",
      "Client: Polling status for 578b2be3-beb7-4545-8ba8-bea280253ce8... [ 50%] IN_PROGRESS | Stage: PARSING\n",
      "Client: Polling status for 578b2be3-beb7-4545-8ba8-bea280253ce8... [ 50%] IN_PROGRESS | Stage: PARSING\n",
      "Client: Polling status for 578b2be3-beb7-4545-8ba8-bea280253ce8... [ 50%] IN_PROGRESS | Stage: PARSING\n",
      "Client: Polling status for 578b2be3-beb7-4545-8ba8-bea280253ce8... [ 50%] IN_PROGRESS | Stage: PARSING\n",
      "Client: Polling status for 578b2be3-beb7-4545-8ba8-bea280253ce8... [ 50%] IN_PROGRESS | Stage: PARSING\n",
      "Client: Polling status for 578b2be3-beb7-4545-8ba8-bea280253ce8... [ 50%] IN_PROGRESS | Stage: PARSING\n",
      "Client: Polling status for 578b2be3-beb7-4545-8ba8-bea280253ce8... [ 50%] IN_PROGRESS | Stage: PARSING\n",
      "Client: Polling status for 578b2be3-beb7-4545-8ba8-bea280253ce8... [ 50%] IN_PROGRESS | Stage: PARSING\n",
      "Client: Polling status for 578b2be3-beb7-4545-8ba8-bea280253ce8... [ 50%] IN_PROGRESS | Stage: PARSING\n",
      "Client: Polling status for 578b2be3-beb7-4545-8ba8-bea280253ce8... [ 50%] IN_PROGRESS | Stage: PARSING\n",
      "Client: Polling status for 578b2be3-beb7-4545-8ba8-bea280253ce8... [ 50%] IN_PROGRESS | Stage: PARSING\n",
      "Client: Polling status for 578b2be3-beb7-4545-8ba8-bea280253ce8... [ 50%] IN_PROGRESS | Stage: PARSING\n",
      "Client: Polling status for 578b2be3-beb7-4545-8ba8-bea280253ce8... [ 50%] IN_PROGRESS | Stage: PARSING\n",
      "Client: Polling status for 578b2be3-beb7-4545-8ba8-bea280253ce8... [ 50%] IN_PROGRESS | Stage: PARSING\n",
      "Client: Polling status for 578b2be3-beb7-4545-8ba8-bea280253ce8... [ 50%] IN_PROGRESS | Stage: PARSING\n",
      "Client: Polling status for 578b2be3-beb7-4545-8ba8-bea280253ce8... [ 50%] IN_PROGRESS | Stage: PARSING\n",
      "Client: Polling status for 578b2be3-beb7-4545-8ba8-bea280253ce8... [ 50%] IN_PROGRESS | Stage: PARSING\n",
      "Client: Polling status for 578b2be3-beb7-4545-8ba8-bea280253ce8... [ 50%] IN_PROGRESS | Stage: PARSING\n",
      "Client: Polling status for 578b2be3-beb7-4545-8ba8-bea280253ce8... [ 50%] IN_PROGRESS | Stage: PARSING\n",
      "Client: Polling status for 578b2be3-beb7-4545-8ba8-bea280253ce8... [ 50%] IN_PROGRESS | Stage: PARSING\n",
      "Client: Polling status for 578b2be3-beb7-4545-8ba8-bea280253ce8... [ 50%] IN_PROGRESS | Stage: PARSING\n",
      "Client: Polling status for 578b2be3-beb7-4545-8ba8-bea280253ce8... [ 50%] IN_PROGRESS | Stage: PARSING\n",
      "Client: Polling status for 578b2be3-beb7-4545-8ba8-bea280253ce8... [ 50%] IN_PROGRESS | Stage: PARSING\n",
      "Client: Polling status for 578b2be3-beb7-4545-8ba8-bea280253ce8... [ 50%] IN_PROGRESS | Stage: PARSING\n",
      "Client: Polling status for 578b2be3-beb7-4545-8ba8-bea280253ce8... [ 50%] IN_PROGRESS | Stage: PARSING\n",
      "Client: Polling status for 578b2be3-beb7-4545-8ba8-bea280253ce8... [ 50%] IN_PROGRESS | Stage: PARSING\n",
      "Client: Polling status for 578b2be3-beb7-4545-8ba8-bea280253ce8... [ 50%] IN_PROGRESS | Stage: PARSING\n",
      "Client: Polling status for 578b2be3-beb7-4545-8ba8-bea280253ce8... [ 50%] IN_PROGRESS | Stage: PARSING\n",
      "Client: Polling status for 578b2be3-beb7-4545-8ba8-bea280253ce8... [ 50%] IN_PROGRESS | Stage: PARSING\n",
      "Client: Polling status for 578b2be3-beb7-4545-8ba8-bea280253ce8... [ 50%] IN_PROGRESS | Stage: PARSING\n",
      "Client: Polling status for 578b2be3-beb7-4545-8ba8-bea280253ce8... [ 50%] IN_PROGRESS | Stage: PARSING\n",
      "Client: Polling status for 578b2be3-beb7-4545-8ba8-bea280253ce8... [ 50%] IN_PROGRESS | Stage: PARSING\n",
      "Client: Polling status for 578b2be3-beb7-4545-8ba8-bea280253ce8... [ 50%] IN_PROGRESS | Stage: PARSING\n",
      "Client: Polling status for 578b2be3-beb7-4545-8ba8-bea280253ce8... [ 50%] IN_PROGRESS | Stage: PARSING\n",
      "Client: Polling status for 578b2be3-beb7-4545-8ba8-bea280253ce8... [ 50%] IN_PROGRESS | Stage: PARSING\n",
      "Client: Polling status for 578b2be3-beb7-4545-8ba8-bea280253ce8... [ 50%] IN_PROGRESS | Stage: PARSING\n",
      "Client: Polling status for 578b2be3-beb7-4545-8ba8-bea280253ce8... [ 50%] IN_PROGRESS | Stage: PARSING\n",
      "Client: Polling status for 578b2be3-beb7-4545-8ba8-bea280253ce8... [ 50%] IN_PROGRESS | Stage: PARSING\n",
      "Client: Polling status for 578b2be3-beb7-4545-8ba8-bea280253ce8... [ 50%] IN_PROGRESS | Stage: PARSING\n",
      "Client: Polling status for 578b2be3-beb7-4545-8ba8-bea280253ce8... [ 50%] IN_PROGRESS | Stage: PARSING\n",
      "Client: Polling status for 578b2be3-beb7-4545-8ba8-bea280253ce8... [ 50%] IN_PROGRESS | Stage: PARSING\n",
      "Client: Polling status for 578b2be3-beb7-4545-8ba8-bea280253ce8... [ 50%] IN_PROGRESS | Stage: PARSING\n",
      "Client: Polling status for 578b2be3-beb7-4545-8ba8-bea280253ce8... [ 50%] IN_PROGRESS | Stage: PARSING\n",
      "Client: Polling status for 578b2be3-beb7-4545-8ba8-bea280253ce8... [ 50%] IN_PROGRESS | Stage: PARSING\n",
      "Client: Polling status for 578b2be3-beb7-4545-8ba8-bea280253ce8... [ 50%] IN_PROGRESS | Stage: PARSING\n",
      "Client: Polling status for 578b2be3-beb7-4545-8ba8-bea280253ce8... [ 50%] IN_PROGRESS | Stage: PARSING\n",
      "Client: Polling status for 578b2be3-beb7-4545-8ba8-bea280253ce8... [ 50%] IN_PROGRESS | Stage: PARSING\n",
      "Client: Polling status for 578b2be3-beb7-4545-8ba8-bea280253ce8... [ 50%] IN_PROGRESS | Stage: PARSING\n",
      "Client: Polling status for 578b2be3-beb7-4545-8ba8-bea280253ce8... [ 50%] IN_PROGRESS | Stage: PARSING\n",
      "Client: Polling status for 578b2be3-beb7-4545-8ba8-bea280253ce8... [ 50%] IN_PROGRESS | Stage: PARSING\n",
      "Client: Polling status for 578b2be3-beb7-4545-8ba8-bea280253ce8... [ 50%] IN_PROGRESS | Stage: PARSING\n",
      "Client: Polling status for 578b2be3-beb7-4545-8ba8-bea280253ce8... [ 50%] IN_PROGRESS | Stage: PARSING\n",
      "Client: Polling status for 578b2be3-beb7-4545-8ba8-bea280253ce8... [ 50%] IN_PROGRESS | Stage: PARSING\n",
      "Client: Polling status for 578b2be3-beb7-4545-8ba8-bea280253ce8... [ 50%] IN_PROGRESS | Stage: PARSING\n",
      "Client: Polling status for 578b2be3-beb7-4545-8ba8-bea280253ce8... [ 50%] IN_PROGRESS | Stage: PARSING\n",
      "Client: Polling status for 578b2be3-beb7-4545-8ba8-bea280253ce8... [ 50%] IN_PROGRESS | Stage: PARSING\n",
      "Client: Polling status for 578b2be3-beb7-4545-8ba8-bea280253ce8... [ 50%] IN_PROGRESS | Stage: PARSING\n",
      "Client: Polling status for 578b2be3-beb7-4545-8ba8-bea280253ce8... [ 50%] IN_PROGRESS | Stage: PARSING\n",
      "Client: Polling status for 578b2be3-beb7-4545-8ba8-bea280253ce8... [ 50%] IN_PROGRESS | Stage: PARSING\n",
      "Client: Polling status for 578b2be3-beb7-4545-8ba8-bea280253ce8... [ 50%] IN_PROGRESS | Stage: PARSING\n",
      "Client: Polling status for 578b2be3-beb7-4545-8ba8-bea280253ce8... [ 50%] IN_PROGRESS | Stage: PARSING\n",
      "Client: Polling status for 578b2be3-beb7-4545-8ba8-bea280253ce8... [ 50%] IN_PROGRESS | Stage: PARSING\n",
      "Client: Polling status for 578b2be3-beb7-4545-8ba8-bea280253ce8... [ 50%] IN_PROGRESS | Stage: PARSING\n",
      "Client: Polling status for 578b2be3-beb7-4545-8ba8-bea280253ce8... [ 50%] IN_PROGRESS | Stage: PARSING\n",
      "Client: Polling status for 578b2be3-beb7-4545-8ba8-bea280253ce8... [ 50%] IN_PROGRESS | Stage: PARSING\n",
      "Client: Polling status for 578b2be3-beb7-4545-8ba8-bea280253ce8... [ 50%] IN_PROGRESS | Stage: PARSING\n",
      "Client: Polling status for 578b2be3-beb7-4545-8ba8-bea280253ce8... [ 50%] IN_PROGRESS | Stage: PARSING\n",
      "Client: Polling status for 578b2be3-beb7-4545-8ba8-bea280253ce8... [ 50%] IN_PROGRESS | Stage: PARSING\n",
      "Client: Polling status for 578b2be3-beb7-4545-8ba8-bea280253ce8... [ 50%] IN_PROGRESS | Stage: PARSING\n",
      "Client: Polling status for 578b2be3-beb7-4545-8ba8-bea280253ce8... [ 50%] IN_PROGRESS | Stage: PARSING\n",
      "Client: Polling status for 578b2be3-beb7-4545-8ba8-bea280253ce8... [ 50%] IN_PROGRESS | Stage: PARSING\n",
      "Client: Polling status for 578b2be3-beb7-4545-8ba8-bea280253ce8... [ 50%] IN_PROGRESS | Stage: PARSING\n",
      "Client: Polling status for 578b2be3-beb7-4545-8ba8-bea280253ce8... [ 50%] IN_PROGRESS | Stage: PARSING\n",
      "Client: Polling status for 578b2be3-beb7-4545-8ba8-bea280253ce8... [ 50%] IN_PROGRESS | Stage: PARSING\n",
      "Client: Polling status for 578b2be3-beb7-4545-8ba8-bea280253ce8... [ 50%] IN_PROGRESS | Stage: PARSING\n",
      "Client: Polling status for 578b2be3-beb7-4545-8ba8-bea280253ce8... [ 50%] IN_PROGRESS | Stage: PARSING\n",
      "Client: Polling status for 578b2be3-beb7-4545-8ba8-bea280253ce8... [ 50%] IN_PROGRESS | Stage: PARSING\n",
      "Client: Polling status for 578b2be3-beb7-4545-8ba8-bea280253ce8... [ 50%] IN_PROGRESS | Stage: PARSING\n",
      "Client: Polling status for 578b2be3-beb7-4545-8ba8-bea280253ce8... [ 50%] IN_PROGRESS | Stage: PARSING\n",
      "Client: Polling status for 578b2be3-beb7-4545-8ba8-bea280253ce8... [ 50%] IN_PROGRESS | Stage: PARSING\n",
      "Client: Polling status for 578b2be3-beb7-4545-8ba8-bea280253ce8... [ 50%] IN_PROGRESS | Stage: PARSING\n",
      "Client: Polling status for 578b2be3-beb7-4545-8ba8-bea280253ce8... [ 50%] IN_PROGRESS | Stage: PARSING\n",
      "Client: Polling status for 578b2be3-beb7-4545-8ba8-bea280253ce8... [ 50%] IN_PROGRESS | Stage: PARSING\n",
      "Client: Polling status for 578b2be3-beb7-4545-8ba8-bea280253ce8... [ 50%] IN_PROGRESS | Stage: PARSING\n",
      "Client: Polling status for 578b2be3-beb7-4545-8ba8-bea280253ce8... [ 50%] IN_PROGRESS | Stage: PARSING\n",
      "Client: Polling status for 578b2be3-beb7-4545-8ba8-bea280253ce8... [ 50%] IN_PROGRESS | Stage: PARSING\n",
      "Client: Polling status for 578b2be3-beb7-4545-8ba8-bea280253ce8... [ 50%] IN_PROGRESS | Stage: PARSING\n",
      "Client: Polling status for 578b2be3-beb7-4545-8ba8-bea280253ce8... [ 50%] IN_PROGRESS | Stage: PARSING\n",
      "Client: Polling status for 578b2be3-beb7-4545-8ba8-bea280253ce8... [ 50%] IN_PROGRESS | Stage: PARSING\n",
      "Client: Polling status for 578b2be3-beb7-4545-8ba8-bea280253ce8... [ 50%] IN_PROGRESS | Stage: PARSING\n",
      "Client: Polling status for 578b2be3-beb7-4545-8ba8-bea280253ce8... [ 50%] IN_PROGRESS | Stage: PARSING\n",
      "Client: Polling status for 578b2be3-beb7-4545-8ba8-bea280253ce8... [ 50%] IN_PROGRESS | Stage: PARSING\n",
      "Client: Polling status for 578b2be3-beb7-4545-8ba8-bea280253ce8... [ 50%] IN_PROGRESS | Stage: PARSING\n",
      "Client: Polling status for 578b2be3-beb7-4545-8ba8-bea280253ce8... [ 50%] IN_PROGRESS | Stage: PARSING\n",
      "Client: Polling status for 578b2be3-beb7-4545-8ba8-bea280253ce8... [ 50%] IN_PROGRESS | Stage: PARSING\n",
      "Client: Polling status for 578b2be3-beb7-4545-8ba8-bea280253ce8... [ 50%] IN_PROGRESS | Stage: PARSING\n",
      "Client: Polling status for 578b2be3-beb7-4545-8ba8-bea280253ce8... [ 50%] IN_PROGRESS | Stage: PARSING\n",
      "Client: Polling status for 578b2be3-beb7-4545-8ba8-bea280253ce8... [ 50%] IN_PROGRESS | Stage: PARSING\n",
      "Client: Polling status for 578b2be3-beb7-4545-8ba8-bea280253ce8... [ 50%] IN_PROGRESS | Stage: PARSING\n",
      "Client: Polling status for 578b2be3-beb7-4545-8ba8-bea280253ce8... [ 50%] IN_PROGRESS | Stage: PARSING\n",
      "\n",
      "--- Error --- \n",
      "Parsing timed out after 300.0 seconds for doc 578b2be3-beb7-4545-8ba8-bea280253ce8\n"
     ]
    }
   ],
   "source": [
    "from parser_client import DocParserClient\n",
    "DOC_ID = '578b2be3-beb7-4545-8ba8-bea280253ce8'\n",
    "PARSER_URL = \"http://localhost:8000\" # URL нашего doc-parser сервиса\n",
    "FILE_NAME = \"Акт_сдачи_приемки_работ_оказанных_услуг_№1_от_21_07_2025.pdf\"\n",
    "\n",
    "# 2. Запустить парсинг и дождаться результата\n",
    "parser_client = DocParserClient(base_url=PARSER_URL)\n",
    "try:\n",
    "    result = await parser_client.parse_and_wait(doc_id=DOC_ID, file_name=FILE_NAME)\n",
    "    print(\"\\n--- Final Result ---\")\n",
    "    print(result) # -> {'lines_count': 150, 'images_count': 3}\n",
    "except (asyncio.TimeoutError) as e:\n",
    "    print(f\"\\n--- Error --- \\n{e}\")"
   ]
  },
  {
   "cell_type": "code",
   "execution_count": null,
   "id": "e3d9d88b",
   "metadata": {},
   "outputs": [],
   "source": []
  }
 ],
 "metadata": {
  "kernelspec": {
   "display_name": "Python 3",
   "language": "python",
   "name": "python3"
  },
  "language_info": {
   "codemirror_mode": {
    "name": "ipython",
    "version": 3
   },
   "file_extension": ".py",
   "mimetype": "text/x-python",
   "name": "python",
   "nbconvert_exporter": "python",
   "pygments_lexer": "ipython3",
   "version": "3.10.1"
  }
 },
 "nbformat": 4,
 "nbformat_minor": 5
}
